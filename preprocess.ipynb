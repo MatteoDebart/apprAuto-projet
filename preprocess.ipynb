{
 "cells": [
  {
   "cell_type": "code",
   "execution_count": 1,
   "metadata": {},
   "outputs": [],
   "source": [
    "import pandas as pd\n",
    "from utils import *"
   ]
  },
  {
   "cell_type": "code",
   "execution_count": 2,
   "metadata": {},
   "outputs": [],
   "source": [
    "df_complete = pd.read_csv('table.csv')"
   ]
  },
  {
   "cell_type": "markdown",
   "metadata": {},
   "source": [
    "### TARGET = Yield strength / MPa"
   ]
  },
  {
   "cell_type": "code",
   "execution_count": 3,
   "metadata": {},
   "outputs": [
    {
     "data": {
      "text/plain": [
       "np.float64(0.5278450363196125)"
      ]
     },
     "execution_count": 3,
     "metadata": {},
     "output_type": "execute_result"
    }
   ],
   "source": [
    "df_complete[\"Yield strength / MPa\"].isna().mean()"
   ]
  },
  {
   "cell_type": "markdown",
   "metadata": {},
   "source": [
    "**STEP 1**: We extract rows with \"Yield strength / MPa\" not None to create our dataset."
   ]
  },
  {
   "cell_type": "code",
   "execution_count": 4,
   "metadata": {},
   "outputs": [
    {
     "data": {
      "text/plain": [
       "(780, 44)"
      ]
     },
     "execution_count": 4,
     "metadata": {},
     "output_type": "execute_result"
    }
   ],
   "source": [
    "df = df_complete.dropna(subset=['Yield strength / MPa'])\n",
    "df.shape"
   ]
  },
  {
   "cell_type": "markdown",
   "metadata": {},
   "source": [
    "**STEP 2**: Handle categorical features\n",
    "- 'Type of weld' feature"
   ]
  },
  {
   "cell_type": "code",
   "execution_count": 71,
   "metadata": {},
   "outputs": [
    {
     "data": {
      "image/png": "[encoded data removed]",
      "text/plain": [
       "<Figure size 800x400 with 1 Axes>"
      ]
     },
     "metadata": {},
     "output_type": "display_data"
    }
   ],
   "source": [
    "types_of_weld = ['MMA', 'SA', 'other']\n",
    "\n",
    "df.loc[:, 'Type of weld'] = df['Type of weld'].apply(lambda x: x if x in types_of_weld else 'other')\n",
    "plot_distribution(df['Type of weld'])"
   ]
  },
  {
   "cell_type": "code",
   "execution_count": 101,
   "metadata": {},
   "outputs": [],
   "source": [
    "df_encoded = pd.get_dummies(df, columns=['Type of weld'], prefix='weld', dtype=int,).drop(columns=['weld_other'])"
   ]
  },
  {
   "cell_type": "markdown",
   "metadata": {},
   "source": [
    "- 'AC or DC' feature"
   ]
  },
  {
   "cell_type": "code",
   "execution_count": 96,
   "metadata": {},
   "outputs": [],
   "source": [
    "cpt = 0\n",
    "for i in range(len(df_encoded)):\n",
    "    if df_encoded.iloc[i][\"AC or DC\"] is None and df_encoded.iloc[i]['Electrode positive or negative'] is not None:  # Correct None check\n",
    "        cpt += 1\n",
    "        if df_encoded.iloc[i]['Electrode positive or negative'] == 0:\n",
    "            df_encoded.iloc[i][\"AC or DC\"] = \"AC\"\n",
    "        else: \n",
    "            df_encoded.iloc[i][\"AC or DC\"] = \"DC\"\n",
    "            \n",
    "#This did not do anything"
   ]
  },
  {
   "cell_type": "code",
   "execution_count": 102,
   "metadata": {},
   "outputs": [],
   "source": [
    "mapping_dict = {'AC': 0, 'DC': 1}\n",
    "df_encoded['AC or DC'] = df_encoded['AC or DC'].map(mapping_dict)"
   ]
  },
  {
   "cell_type": "markdown",
   "metadata": {},
   "source": [
    "- 'Electrode positive or negative' feature"
   ]
  },
  {
   "cell_type": "code",
   "execution_count": 103,
   "metadata": {},
   "outputs": [],
   "source": [
    "mapping_dict = {'+': 1, '0': 0, '-': -1}\n",
    "df_encoded['Electrode positive or negative'] = df_encoded['Electrode positive or negative'].map(mapping_dict)"
   ]
  }
 ],
 "metadata": {
  "kernelspec": {
   "display_name": "venv",
   "language": "python",
   "name": "python3"
  },
  "language_info": {
   "codemirror_mode": {
    "name": "ipython",
    "version": 3
   },
   "file_extension": ".py",
   "mimetype": "text/x-python",
   "name": "python",
   "nbconvert_exporter": "python",
   "pygments_lexer": "ipython3",
   "version": "3.9.7"
  }
 },
 "nbformat": 4,
 "nbformat_minor": 2
}
